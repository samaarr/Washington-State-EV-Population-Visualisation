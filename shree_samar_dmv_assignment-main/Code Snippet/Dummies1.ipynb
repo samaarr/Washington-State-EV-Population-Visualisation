{
 "cells": [
  {
   "cell_type": "code",
   "execution_count": 284,
   "id": "fd1a76e6-54bf-4057-9e56-a8178f8ddd87",
   "metadata": {},
   "outputs": [],
   "source": [
    "import numpy as np\n",
    "import pandas as pd"
   ]
  },
  {
   "cell_type": "code",
   "execution_count": 285,
   "id": "c3489c51-cea9-4742-96c4-2b9c3399cf88",
   "metadata": {},
   "outputs": [],
   "source": [
    "df3 = pd.read_csv('Electric_Vehicle_Population_Data2.csv' , usecols = ['Model_Year' , 'Make' ]) "
   ]
  },
  {
   "cell_type": "code",
   "execution_count": 286,
   "id": "d10881d8-9b78-452f-b20d-4f56bc71a72d",
   "metadata": {},
   "outputs": [
    {
     "data": {
      "text/plain": [
       "array(['CHRYSLER', 'KIA', 'TESLA', 'NISSAN', 'MINI', 'TOYOTA', 'FORD',\n",
       "       'VOLVO', 'CHEVROLET', 'FIAT', 'AUDI', 'BMW', 'JEEP', 'POLESTAR',\n",
       "       'HONDA', 'VOLKSWAGEN', 'LINCOLN', 'MERCEDES-BENZ', 'RIVIAN',\n",
       "       'PORSCHE', 'HYUNDAI', 'SUBARU', 'SMART', 'JAGUAR', 'MITSUBISHI',\n",
       "       'CADILLAC', 'LEXUS', 'ALFA ROMEO', 'MAZDA', 'GENESIS', 'LUCID',\n",
       "       'LAND ROVER', 'DODGE', 'TH!NK', 'WHEEGO ELECTRIC CARS', 'FISKER',\n",
       "       'BENTLEY', 'AZURE DYNAMICS'], dtype=object)"
      ]
     },
     "execution_count": 286,
     "metadata": {},
     "output_type": "execute_result"
    }
   ],
   "source": [
    "df3['Make'].unique()"
   ]
  },
  {
   "cell_type": "code",
   "execution_count": 287,
   "id": "5436c38b-9c29-4a1b-9a82-ac2e4135323b",
   "metadata": {},
   "outputs": [
    {
     "name": "stdout",
     "output_type": "stream",
     "text": [
      "<class 'pandas.core.frame.DataFrame'>\n",
      "RangeIndex: 159467 entries, 0 to 159466\n",
      "Data columns (total 2 columns):\n",
      " #   Column      Non-Null Count   Dtype \n",
      "---  ------      --------------   ----- \n",
      " 0   Model_Year  159467 non-null  int64 \n",
      " 1   Make        159467 non-null  object\n",
      "dtypes: int64(1), object(1)\n",
      "memory usage: 2.4+ MB\n"
     ]
    }
   ],
   "source": [
    "df3.info()"
   ]
  },
  {
   "cell_type": "code",
   "execution_count": 288,
   "id": "5014d2b9-3e65-423f-a32d-3504149aadd4",
   "metadata": {},
   "outputs": [],
   "source": [
    "make_dummies = pd.get_dummies(df3['Make']).astype(int)\n",
    "\n",
    "# Add the dummy variables to the original DataFrame\n",
    "df = pd.concat([df3, make_dummies], axis=1)"
   ]
  },
  {
   "cell_type": "code",
   "execution_count": 289,
   "id": "42d54879-f014-4a33-903f-5af1e448f647",
   "metadata": {},
   "outputs": [],
   "source": [
    "df.drop(columns = ['Make'] , inplace = True)"
   ]
  },
  {
   "cell_type": "code",
   "execution_count": 290,
   "id": "45de1729-9eb4-49a4-a7ff-09f54db6d280",
   "metadata": {},
   "outputs": [
    {
     "data": {
      "text/plain": [
       "Index(['Model_Year', 'ALFA ROMEO', 'AUDI', 'AZURE DYNAMICS', 'BENTLEY', 'BMW',\n",
       "       'CADILLAC', 'CHEVROLET', 'CHRYSLER', 'DODGE', 'FIAT', 'FISKER', 'FORD',\n",
       "       'GENESIS', 'HONDA', 'HYUNDAI', 'JAGUAR', 'JEEP', 'KIA', 'LAND ROVER',\n",
       "       'LEXUS', 'LINCOLN', 'LUCID', 'MAZDA', 'MERCEDES-BENZ', 'MINI',\n",
       "       'MITSUBISHI', 'NISSAN', 'POLESTAR', 'PORSCHE', 'RIVIAN', 'SMART',\n",
       "       'SUBARU', 'TESLA', 'TH!NK', 'TOYOTA', 'VOLKSWAGEN', 'VOLVO',\n",
       "       'WHEEGO ELECTRIC CARS'],\n",
       "      dtype='object')"
      ]
     },
     "execution_count": 290,
     "metadata": {},
     "output_type": "execute_result"
    }
   ],
   "source": [
    "df.columns"
   ]
  },
  {
   "cell_type": "code",
   "execution_count": 291,
   "id": "2f53a4dd-6d2f-48d2-a67e-8d53117ddc25",
   "metadata": {},
   "outputs": [],
   "source": [
    "cols = ['Model_Year','BMW', 'CHRYSLER', 'FISKER','KIA','MERCEDES-BENZ', 'MINI','PORSCHE', 'SUBARU','TESLA', 'VOLVO','WHEEGO ELECTRIC CARS']"
   ]
  },
  {
   "cell_type": "code",
   "execution_count": 292,
   "id": "108bc23b-4e35-43c7-b533-84ed1d799a38",
   "metadata": {},
   "outputs": [],
   "source": [
    "df1 = df[['Model_Year','BMW', 'CHRYSLER', 'FISKER','KIA','MERCEDES-BENZ', 'MINI','PORSCHE', 'SUBARU','TESLA', 'VOLVO','WHEEGO ELECTRIC CARS']]"
   ]
  },
  {
   "cell_type": "code",
   "execution_count": 293,
   "id": "21aa8911-d779-498c-9c9c-df23cc600994",
   "metadata": {},
   "outputs": [],
   "source": [
    "import datetime"
   ]
  },
  {
   "cell_type": "code",
   "execution_count": 294,
   "id": "34b84503-b81f-4d85-a540-83f67d38097c",
   "metadata": {},
   "outputs": [
    {
     "data": {
      "text/plain": [
       "array([2017, 2020, 2022, 2018, 2019, 2012, 2021, 2016, 2013, 2014, 2015,\n",
       "       2023, 2011, 2024, 2010, 2008, 2000, 2002, 1998, 1997, 1999, 2003],\n",
       "      dtype=int64)"
      ]
     },
     "execution_count": 294,
     "metadata": {},
     "output_type": "execute_result"
    }
   ],
   "source": [
    "df1['Model_Year'].unique()"
   ]
  },
  {
   "cell_type": "code",
   "execution_count": 295,
   "id": "121ad1b7-b376-43c4-bd3e-6926af5dfbdc",
   "metadata": {},
   "outputs": [],
   "source": [
    "subsetdf = df1[cols]\n",
    "subsetdf.set_index(\"Model_Year\" , inplace = True)"
   ]
  },
  {
   "cell_type": "code",
   "execution_count": 296,
   "id": "0bdf89af-b332-4c17-90a1-761a51f9a867",
   "metadata": {},
   "outputs": [],
   "source": [
    "# Calculate the cumulative sum for each feature\n",
    "df_cumsum = subsetdf.groupby(subsetdf.index).cumsum()\n",
    "\n",
    "# Keep only rows where 'Model_Year' is distinct\n",
    "df_result = df_cumsum.loc[~subsetdf.index.duplicated(keep='last')]\n"
   ]
  },
  {
   "cell_type": "code",
   "execution_count": 297,
   "id": "d44fe39e-0627-46b0-806e-6b4f3e1cb4e1",
   "metadata": {},
   "outputs": [],
   "source": [
    "df_result.to_csv('Count1')"
   ]
  },
  {
   "cell_type": "code",
   "execution_count": null,
   "id": "3d2df09e-05dc-4b2f-a3c2-faee39928459",
   "metadata": {},
   "outputs": [],
   "source": []
  }
 ],
 "metadata": {
  "kernelspec": {
   "display_name": "Python 3 (ipykernel)",
   "language": "python",
   "name": "python3"
  },
  "language_info": {
   "codemirror_mode": {
    "name": "ipython",
    "version": 3
   },
   "file_extension": ".py",
   "mimetype": "text/x-python",
   "name": "python",
   "nbconvert_exporter": "python",
   "pygments_lexer": "ipython3",
   "version": "3.9.18"
  }
 },
 "nbformat": 4,
 "nbformat_minor": 5
}
